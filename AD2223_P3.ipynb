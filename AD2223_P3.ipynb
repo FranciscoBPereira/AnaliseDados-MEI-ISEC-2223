{
  "nbformat": 4,
  "nbformat_minor": 0,
  "metadata": {
    "colab": {
      "provenance": []
    },
    "kernelspec": {
      "name": "python3",
      "display_name": "Python 3"
    },
    "language_info": {
      "name": "python"
    },
    "accelerator": "GPU",
    "gpuClass": "standard"
  },
  "cells": [
    {
      "cell_type": "code",
      "execution_count": null,
      "metadata": {
        "id": "FVoIRYXrYNGg"
      },
      "outputs": [],
      "source": [
        "# Setup, Version check and Common imports\n",
        "\n",
        "# Python ≥3.5 is required\n",
        "import sys\n",
        "assert sys.version_info >= (3, 5)\n",
        "\n",
        "\n",
        "# TensorFlow ≥2.0 is required\n",
        "import tensorflow as tf\n",
        "assert tf.__version__ >= \"2.0\"\n",
        "\n",
        "# Common imports\n",
        "import numpy as np\n",
        "import os\n",
        "\n",
        "from tensorflow import keras\n",
        "from tensorflow.keras import layers\n",
        "\n",
        "# to make this notebook's output stable across runs\n",
        "np.random.seed(42)\n",
        "\n",
        "import matplotlib.pyplot as plt\n",
        "\n",
        "plt.rc('font', size=14)\n",
        "plt.rc('axes', labelsize=14, titlesize=14)\n",
        "plt.rc('legend', fontsize=14)\n",
        "plt.rc('xtick', labelsize=10)\n",
        "plt.rc('ytick', labelsize=10)"
      ]
    },
    {
      "cell_type": "code",
      "source": [
        "# Load CIFAR100 dataset from keras datasets: \n",
        "# https://keras.io/api/datasets/cifar100/\n",
        "# https://www.cs.toronto.edu/~kriz/cifar.html\n",
        "\n",
        "# The load_data() method creates train and test sets. The parameter label_mode specifies the category labels: 'fine' or 'coarse'\n",
        "# In this class we will adopt the coarse classification, corresponding to 20 categories \n",
        "\n",
        "from keras.datasets import cifar100\n",
        "\n",
        "(train_images_full, train_labels_full), (test_images, test_labels) = cifar100.load_data(label_mode = 'fine')\n",
        "\n",
        "train_labels_full = train_labels_full.squeeze()\n",
        "test_labels = test_labels.squeeze()\n",
        "\n",
        "# Normalize data\n",
        "train_images_full = train_images_full / 255.0\n",
        "test_images = test_images / 255.0\n",
        "\n",
        "# We further divide the original train datasets into train and valid datasets\n",
        "train_images = train_images_full[5000:]\n",
        "valid_images = train_images_full[:5000]\n",
        "\n",
        "train_labels = train_labels_full[5000:]\n",
        "valid_labels = train_labels_full[:5000]\n"
      ],
      "metadata": {
        "id": "-qUxrTYbXjKl"
      },
      "execution_count": null,
      "outputs": []
    },
    {
      "cell_type": "code",
      "source": [
        "# Confirm that the fine-grained dataset contains 100 classes\n",
        "\n",
        "print(np. unique(train_labels))\n",
        "\n",
        "print('Nr. of classes:', len(np. unique(train_labels)))\n"
      ],
      "metadata": {
        "id": "Dy9uFguPPlKb"
      },
      "execution_count": null,
      "outputs": []
    },
    {
      "cell_type": "code",
      "source": [
        "keras.backend.clear_session()\n",
        "tf.random.set_seed(42)\n",
        "np.random.seed(42)\n"
      ],
      "metadata": {
        "id": "WHZ6FyvC57jT"
      },
      "execution_count": null,
      "outputs": []
    },
    {
      "cell_type": "code",
      "source": [
        "# Build a feed-forward NN with Keras Sequential API: https://keras.io/api/models/\n",
        "\n",
        "# Suggestion: Start with the best model from previous class\n",
        "\n",
        "model = keras.Sequential([\n",
        "    # Complete model definition\n",
        "])"
      ],
      "metadata": {
        "id": "6nA7P4Lm596t"
      },
      "execution_count": null,
      "outputs": []
    },
    {
      "cell_type": "code",
      "source": [
        "# Summary of the network architecture\n",
        "\n",
        "model.summary()"
      ],
      "metadata": {
        "id": "a2faH77Q9UyM"
      },
      "execution_count": null,
      "outputs": []
    },
    {
      "cell_type": "code",
      "source": [
        "# Model compilation: https://keras.io/api/models/model_training_apis/\n",
        "\n",
        "\n",
        "model.compile(loss=\"sparse_categorical_crossentropy\",\n",
        "              optimizer=keras.optimizers.SGD(learning_rate=0.01),\n",
        "              metrics=[\"accuracy\"])"
      ],
      "metadata": {
        "id": "iEbBZxXpCPRj"
      },
      "execution_count": null,
      "outputs": []
    },
    {
      "cell_type": "code",
      "source": [
        "# Model training\n",
        "\n",
        "\n",
        "history = model.fit(train_images, train_labels, batch_size=32, epochs=20, \n",
        "                    validation_data=(valid_images, valid_labels))"
      ],
      "metadata": {
        "id": "nTbr2Q2ACkoE"
      },
      "execution_count": null,
      "outputs": []
    },
    {
      "cell_type": "code",
      "source": [
        "# Plot the evolution of the accuracy metrics\n",
        "\n",
        "import pandas as pd\n",
        "\n",
        "x = pd.DataFrame(history.history, columns = ['accuracy', 'val_accuracy'])\n",
        "x.plot(figsize=(8, 5))\n",
        "plt.grid(True)\n",
        "plt.show()"
      ],
      "metadata": {
        "id": "vF_3tSLPDgTi"
      },
      "execution_count": null,
      "outputs": []
    },
    {
      "cell_type": "code",
      "source": [
        "# Model evaluation\n",
        "\n",
        "test_loss, test_acc = model.evaluate(test_images, test_labels)\n",
        "print(f\"Test Accuracy: {test_acc}\")"
      ],
      "metadata": {
        "id": "HTZKcdsZFp-t"
      },
      "execution_count": null,
      "outputs": []
    },
    {
      "cell_type": "markdown",
      "source": [
        "\n",
        "**Lab Assignment**\n",
        "\n",
        "Design and evaluate two alternative models, aiming at enhancing performance\n",
        "\n",
        "Constraints:\n",
        "- Fully connected feed-forward architectures only\n",
        "- Keras Sequential API\n",
        "- Layers: Flatten, Dense, BatchNorm, Dropout\n",
        "\n",
        "Components to address:\n",
        "- Network architecture (nr. of layers / neurons per layer)\n",
        "- Activation Functions\n",
        "- Weight Initialization\n",
        "- Optimization Algorithms\n",
        "- Fighting overfitting: Batch Normalization / Early Stopping / Dropout\n",
        "\n",
        "Complete and submit a notebook with your proposals. The notebook should comprise both the code, the justification for the proposals and the analysis of results:\n",
        "- Baseline model\n",
        "- Two model alternatives, justifying why they were selected\n",
        "- Selected settings\n",
        "- Results\n",
        "- Analysis\n"
      ],
      "metadata": {
        "id": "O4AkkEZKXL86"
      }
    },
    {
      "cell_type": "code",
      "source": [
        "# CODE FOR THE ASSIGNMENT STARTS HERE\n",
        "\n",
        "\n",
        "\n",
        "\n"
      ],
      "metadata": {
        "id": "BhnB-IXONcGz"
      },
      "execution_count": null,
      "outputs": []
    }
  ]
}